{
 "cells": [
  {
   "cell_type": "markdown",
   "id": "9a508092-0ed2-411d-a7f9-d32060ba24c9",
   "metadata": {},
   "source": [
    "# Mini-projet : Classification de tumeurs gliales"
   ]
  },
  {
   "cell_type": "markdown",
   "id": "b1ef50ae-8bbf-4da4-ae72-8f38881318ea",
   "metadata": {},
   "source": [
    "Les _gliomes_ ou _tumeurs gliales_ sont des tumeurs du glie, le tissu de soutien neuronal du cerveau. Elles sont classifiées en 4 grades anatomo-pathologiques, dont dépend la prise en charge."
   ]
  },
  {
   "cell_type": "markdown",
   "id": "cf9571f5-f28c-4604-8496-a5b422f62d7b",
   "metadata": {},
   "source": [
    "Dans ce jeu de données, chaque observation est un gliome, décrit par l'expression de 4 434 gènes. L'expression d'un gène est une mesure de la quantité d'ARN correspondant à ce gène qui est présente dans la cellule. Schématiquement, l'ADN est transcrit en ARN, lequel est lui-même traduit en une protéine. Les protéines assurent une multitude de fonctions du vivant, mais mesurer leur quantité est difficile ; d'où l'intérêt d'utiliser les quantités d'ARN, bien que la correspondance ne soit pas immédiate. \n",
    "\n",
    "Chaque gliome de notre jeu de données est étiquetée en fonction de son grade. \n",
    "\n",
    "Le but de ce projet est de construire un classifieur qui détermine, sur la base de l'expression de ces 4 434 gènes, le grade d'un gliome."
   ]
  },
  {
   "cell_type": "markdown",
   "id": "d1970b2b-d686-4531-b771-6a5fd2d47ad2",
   "metadata": {},
   "source": [
    "## Instructions\n",
    "1. Comparez les performances d'au moins deux algorithmes d'apprentissage sur ce problème de classification.\n",
    "\n",
    "__Attention :__\n",
    "* à la taille du jeu de données\n",
    "* au nombre de classes\n",
    "* à effectuer le prétraitement des données uniquement sur le(s) jeu(x) d'apprentissage.\n",
    "2. Identifiez, quand cela est possible, les gènes les plus importants pour les modèles que vous avez entraînés. S'agit-il des mêmes gènes\n",
    "* entre deux modèles obtenus grâce à un algorithme d'apprentissage différents ?\n",
    "* entre deux modèles obtenus en utilisant le même algorithme d'apprentissage sur des sous-échantillons différents des données ?\n",
    "\n",
    "N'oubliez pas de commenter et interpréter vos résultats."
   ]
  },
  {
   "cell_type": "markdown",
   "id": "e6274ace-a84a-4830-9872-92dfd3e54ede",
   "metadata": {},
   "source": [
    "## Chargement des données"
   ]
  },
  {
   "cell_type": "code",
   "execution_count": 1,
   "id": "f9d5f7c1-54a5-4772-9b7d-8799ea4c6fb7",
   "metadata": {},
   "outputs": [],
   "source": [
    "import scipy.io\n",
    "data_matrix = scipy.io.loadmat(\"gliome.mat\")"
   ]
  },
  {
   "cell_type": "code",
   "execution_count": 5,
   "id": "9dcb2008-d59a-4e35-a12d-ae7017f4c427",
   "metadata": {},
   "outputs": [
    {
     "name": "stdout",
     "output_type": "stream",
     "text": [
      "(50, 4434)\n"
     ]
    }
   ],
   "source": [
    "X = data_matrix['X']\n",
    "print(X.shape)"
   ]
  },
  {
   "cell_type": "code",
   "execution_count": 8,
   "id": "30f163fb-bb27-421e-a221-69d84791f721",
   "metadata": {},
   "outputs": [
    {
     "name": "stdout",
     "output_type": "stream",
     "text": [
      "(50,)\n"
     ]
    }
   ],
   "source": [
    "y = data_matrix['Y'][:, 0] \n",
    "print(y.shape)"
   ]
  }
 ],
 "metadata": {
  "kernelspec": {
   "display_name": "Python 3",
   "language": "python",
   "name": "python3"
  },
  "language_info": {
   "codemirror_mode": {
    "name": "ipython",
    "version": 3
   },
   "file_extension": ".py",
   "mimetype": "text/x-python",
   "name": "python",
   "nbconvert_exporter": "python",
   "pygments_lexer": "ipython3",
   "version": "3.9.4"
  }
 },
 "nbformat": 4,
 "nbformat_minor": 5
}

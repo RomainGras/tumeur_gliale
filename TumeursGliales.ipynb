{
 "cells": [
  {
   "attachments": {},
   "cell_type": "markdown",
   "id": "9a508092-0ed2-411d-a7f9-d32060ba24c9",
   "metadata": {},
   "source": [
    "# Mini-projet : Classification de tumeurs gliales"
   ]
  },
  {
   "attachments": {},
   "cell_type": "markdown",
   "id": "b1ef50ae-8bbf-4da4-ae72-8f38881318ea",
   "metadata": {},
   "source": [
    "Les _gliomes_ ou _tumeurs gliales_ sont des tumeurs du glie, le tissu de soutien neuronal du cerveau. Elles sont classifiées en 4 grades anatomo-pathologiques, dont dépend la prise en charge."
   ]
  },
  {
   "attachments": {},
   "cell_type": "markdown",
   "id": "cf9571f5-f28c-4604-8496-a5b422f62d7b",
   "metadata": {},
   "source": [
    "Dans ce jeu de données, chaque observation est un gliome, décrit par l'expression de 4 434 gènes. L'expression d'un gène est une mesure de la quantité d'ARN correspondant à ce gène qui est présente dans la cellule. Schématiquement, l'ADN est transcrit en ARN, lequel est lui-même traduit en une protéine. Les protéines assurent une multitude de fonctions du vivant, mais mesurer leur quantité est difficile ; d'où l'intérêt d'utiliser les quantités d'ARN, bien que la correspondance ne soit pas immédiate. \n",
    "\n",
    "Chaque gliome de notre jeu de données est étiquetée en fonction de son grade. \n",
    "\n",
    "Le but de ce projet est de construire un classifieur qui détermine, sur la base de l'expression de ces 4 434 gènes, le grade d'un gliome."
   ]
  },
  {
   "attachments": {},
   "cell_type": "markdown",
   "id": "d1970b2b-d686-4531-b771-6a5fd2d47ad2",
   "metadata": {},
   "source": [
    "## Instructions\n",
    "1. Comparez les performances d'au moins deux algorithmes d'apprentissage sur ce problème de classification.\n",
    "\n",
    "__Attention :__\n",
    "* au _data leakage_ (ne pas utiliser les données sur lesquelles on évalue les modèles pour les entraîner ou prétraiter les données)\n",
    "* à la taille du jeu de données\n",
    "* au nombre de classes\n",
    "* à choisir une mesure de performance appropriée (justifiez votre choix)\n",
    "2. Identifiez, quand cela est possible, les gènes les plus importants pour les modèles que vous avez entraînés. S'agit-il des mêmes gènes\n",
    "* entre deux modèles obtenus grâce à un algorithme d'apprentissage différents ?\n",
    "* entre deux modèles obtenus en utilisant le même algorithme d'apprentissage sur des sous-échantillons différents des données ?\n",
    "\n",
    "N'oubliez pas de commenter et interpréter vos résultats."
   ]
  },
  {
   "attachments": {},
   "cell_type": "markdown",
   "id": "e6274ace-a84a-4830-9872-92dfd3e54ede",
   "metadata": {},
   "source": [
    "## Chargement des données"
   ]
  },
  {
   "cell_type": "code",
   "execution_count": 129,
   "id": "f9d5f7c1-54a5-4772-9b7d-8799ea4c6fb7",
   "metadata": {},
   "outputs": [],
   "source": [
    "import scipy.io\n",
    "from sklearn.model_selection import train_test_split\n",
    "import matplotlib.pyplot as plt\n",
    "from sklearn import tree\n",
    "from sklearn import metrics\n",
    "from sklearn.ensemble import RandomForestClassifier\n",
    "from sklearn.metrics import classification_report\n",
    "from sklearn.metrics import confusion_matrix\n",
    "from sklearn.model_selection import GridSearchCV\n",
    "from sklearn.neural_network import MLPClassifier\n",
    "from sklearn.ensemble import AdaBoostClassifier"
   ]
  },
  {
   "attachments": {},
   "cell_type": "markdown",
   "id": "69db69d8",
   "metadata": {},
   "source": [
    "**Load and display of the Data**"
   ]
  },
  {
   "cell_type": "code",
   "execution_count": 25,
   "id": "ac648b4d",
   "metadata": {},
   "outputs": [],
   "source": [
    "data_matrix = scipy.io.loadmat(\"gliome.mat\")"
   ]
  },
  {
   "cell_type": "code",
   "execution_count": 26,
   "id": "9dcb2008-d59a-4e35-a12d-ae7017f4c427",
   "metadata": {},
   "outputs": [
    {
     "name": "stdout",
     "output_type": "stream",
     "text": [
      "(50, 4434)\n"
     ]
    }
   ],
   "source": [
    "X = data_matrix['X']\n",
    "print(X.shape)"
   ]
  },
  {
   "cell_type": "code",
   "execution_count": 27,
   "id": "30f163fb-bb27-421e-a221-69d84791f721",
   "metadata": {},
   "outputs": [
    {
     "name": "stdout",
     "output_type": "stream",
     "text": [
      "(50,)\n"
     ]
    }
   ],
   "source": [
    "y = data_matrix['Y'][:, 0] \n",
    "print(y.shape)"
   ]
  },
  {
   "cell_type": "code",
   "execution_count": 28,
   "id": "af7f463f",
   "metadata": {},
   "outputs": [
    {
     "name": "stdout",
     "output_type": "stream",
     "text": [
      "Input =  [1.87794695 1.30103    1.95036485 ... 2.11327469 2.60938094 3.68796571]  , Label =  1\n",
      "Input =  [2.65103647 2.29021119 2.43658941 ... 1.92947518 2.51964518 3.9517036 ]  , Label =  1\n",
      "Input =  [2.22110843 2.30232054 3.04513748 ... 1.30103    1.30103    3.7057659 ]  , Label =  1\n",
      "Input =  [2.16882971 2.12510471 2.99372251 ... 1.30103    1.83807094 3.82636873]  , Label =  1\n",
      "Input =  [2.57578494 1.70598791 2.51363704 ... 1.410159   1.84760764 4.08229373]  , Label =  1\n",
      "Input =  [2.28952095 3.0499046  2.91595283 ... 1.30103    1.50880866 3.78513714]  , Label =  1\n",
      "Input =  [2.11876588 2.83513521 2.88672146 ... 1.43670065 2.0987586  3.73532355]  , Label =  1\n",
      "Input =  [2.15474007 2.874606   2.74377285 ... 1.30103    1.95164564 3.65227584]  , Label =  1\n",
      "Input =  [2.23287063 1.8456718  3.07096571 ... 1.30103    2.01466122 3.74096152]  , Label =  1\n",
      "Input =  [2.4539696  1.85919818 3.08365381 ... 1.30103    1.63250406 3.79734269]  , Label =  1\n",
      "Input =  [2.10623409 2.1522859  3.09501968 ... 1.30103    1.9451899  3.73018394]  , Label =  1\n",
      "Input =  [2.15774137 1.79509723 3.12285816 ... 1.30103    1.74257864 3.79490074]  , Label =  1\n",
      "Input =  [2.22068694 2.15232229 3.17277656 ... 1.30103    1.50591177 3.74230453]  , Label =  1\n",
      "Input =  [2.51132002 2.47404601 2.8179762  ... 1.91229854 2.12115096 3.85959356]  , Label =  1\n",
      "Input =  [2.51891633 2.13885256 2.95292097 ... 1.30103    1.71317844 3.77660909]  , Label =  2\n",
      "Input =  [2.3721633  1.75215582 3.04679435 ... 1.30103    1.81042112 3.7975675 ]  , Label =  2\n",
      "Input =  [2.01603164 2.4429292  2.96428396 ... 2.49232602 2.47458336 3.98414677]  , Label =  2\n",
      "Input =  [2.39070607 2.17368993 3.06952602 ... 1.30103    1.84762682 3.75008786]  , Label =  2\n",
      "Input =  [2.38871347 1.74894653 3.15025986 ... 1.30103    2.22945171 3.81776846]  , Label =  2\n",
      "Input =  [2.16427581 2.07524687 3.08773103 ... 1.30103    1.68018344 3.77498349]  , Label =  2\n",
      "Input =  [2.16460027 1.88193485 2.96860057 ... 1.30103    1.77279037 3.80499851]  , Label =  2\n",
      "Input =  [1.85064624 1.91960102 2.61647551 ... 1.91698005 2.33765889 3.60807653]  , Label =  3\n",
      "Input =  [1.8332916  2.00016066 2.62972807 ... 2.05500122 2.25523993 3.45534607]  , Label =  3\n",
      "Input =  [2.35509984 1.69667871 2.61701859 ... 1.30103    1.30103    3.66019104]  , Label =  3\n",
      "Input =  [2.04170014 2.11479507 2.86288585 ... 1.30103    1.31527303 3.56859828]  , Label =  3\n",
      "Input =  [1.71515171 1.55223724 2.15901375 ... 1.55023582 1.96950845 3.68343539]  , Label =  3\n",
      "Input =  [1.84009561 1.64820998 2.89577216 ... 1.30103    1.30103    3.68118677]  , Label =  3\n",
      "Input =  [1.63611503 1.30103    2.93416912 ... 2.20818759 2.4225946  3.68433971]  , Label =  3\n",
      "Input =  [2.03419435 2.12744983 2.83350855 ... 1.30103    1.61881648 3.46873891]  , Label =  3\n",
      "Input =  [1.99355394 2.11870013 2.83440023 ... 1.30103    1.79312734 3.51268813]  , Label =  3\n",
      "Input =  [2.12010385 1.90374067 2.75688406 ... 1.30103    1.84302493 3.43774898]  , Label =  3\n",
      "Input =  [2.1394304  1.60726142 2.77548804 ... 1.30103    1.51327595 3.4881306 ]  , Label =  3\n",
      "Input =  [1.80363749 2.22249615 2.6705709  ... 1.30103    1.37348375 3.51970635]  , Label =  3\n",
      "Input =  [2.01416969 2.17221282 2.67829608 ... 1.30103    1.78234992 3.48278457]  , Label =  3\n",
      "Input =  [1.93801449 2.27661504 2.78570715 ... 1.30103    1.77311482 3.51538419]  , Label =  3\n",
      "Input =  [2.2582773  2.36064225 2.85298798 ... 1.30103    1.52652898 3.44567113]  , Label =  4\n",
      "Input =  [2.23815554 2.17887972 2.68244528 ... 1.30103    1.69600628 3.50543136]  , Label =  4\n",
      "Input =  [1.99459537 1.67100224 2.91987724 ... 1.30103    1.59148088 3.54032585]  , Label =  4\n",
      "Input =  [2.16126436 1.30103    2.61382396 ... 1.30103    1.94666715 3.50765743]  , Label =  4\n",
      "Input =  [2.01468809 2.50740286 2.78655027 ... 1.30103    1.41821127 3.4892508 ]  , Label =  4\n",
      "Input =  [1.87819406 2.10004298 2.74054442 ... 1.30103    1.73603457 3.43003488]  , Label =  4\n",
      "Input =  [2.03406025 1.30103    2.7355886  ... 1.30103    1.33487618 3.58364044]  , Label =  4\n",
      "Input =  [2.02443353 1.49427317 2.83951582 ... 1.30103    1.83790212 3.53180873]  , Label =  4\n",
      "Input =  [2.1050143  1.96210773 2.61712579 ... 1.30103    1.75205237 3.4783861 ]  , Label =  4\n",
      "Input =  [2.03158417 2.38835932 2.64292706 ... 2.09158185 2.35878527 3.57015038]  , Label =  4\n",
      "Input =  [1.93729482 1.82619004 2.69755756 ... 1.30103    1.81253857 3.63367212]  , Label =  4\n",
      "Input =  [1.80899396 1.56470085 2.85672019 ... 1.99484841 2.59182885 3.57209964]  , Label =  4\n",
      "Input =  [1.90108937 2.50788797 2.41862225 ... 1.86934873 2.28255006 3.68242461]  , Label =  4\n",
      "Input =  [1.99002674 2.2935855  2.82733399 ... 1.30103    1.78780459 3.4468193 ]  , Label =  4\n",
      "Input =  [2.19303105 1.30103    2.80834347 ... 1.41392477 1.63806194 3.55952576]  , Label =  4\n"
     ]
    }
   ],
   "source": [
    "for i in range(0, 50) :\n",
    "    print('Input = ', X[i,:], ' , Label = ', y[i] )"
   ]
  },
  {
   "attachments": {},
   "cell_type": "markdown",
   "id": "f5e25925",
   "metadata": {},
   "source": [
    "**Classification with a simple tree**"
   ]
  },
  {
   "cell_type": "code",
   "execution_count": 103,
   "id": "4b64114c",
   "metadata": {},
   "outputs": [],
   "source": [
    "X_train, X_test, y_train, y_test = train_test_split(X, y, test_size=0.3, random_state=84, stratify=y)"
   ]
  },
  {
   "cell_type": "code",
   "execution_count": 104,
   "id": "9a882625",
   "metadata": {},
   "outputs": [
    {
     "data": {
      "text/plain": [
       "Text(0.5, 0, 'train labels')"
      ]
     },
     "execution_count": 104,
     "metadata": {},
     "output_type": "execute_result"
    },
    {
     "data": {
      "image/png": "[encoded data removed]",
      "text/plain": [
       "<Figure size 640x480 with 2 Axes>"
      ]
     },
     "metadata": {},
     "output_type": "display_data"
    }
   ],
   "source": [
    "plt.subplot(1, 2, 1)\n",
    "plt.hist(y_test)\n",
    "plt.xlabel('test labels')\n",
    "plt.subplot(1, 2, 2)\n",
    "plt.hist(y_train)\n",
    "plt.xlabel('train labels')"
   ]
  },
  {
   "attachments": {},
   "cell_type": "markdown",
   "id": "7d4cca7c",
   "metadata": {},
   "source": [
    "We here remark that while having few data, we also have one class that is under-represented."
   ]
  },
  {
   "cell_type": "code",
   "execution_count": 105,
   "id": "8541696b",
   "metadata": {},
   "outputs": [
    {
     "data": {
      "text/plain": [
       "[Text(0.5, 0.8333333333333334, 'x[1870] <= 3.628\\nentropy = 1.95\\nsamples = 35\\nvalue = [10, 5, 10, 10]'),\n",
       " Text(0.25, 0.5, 'x[3044] <= 2.229\\nentropy = 1.0\\nsamples = 20\\nvalue = [0, 0, 10, 10]'),\n",
       " Text(0.125, 0.16666666666666666, 'entropy = 0.0\\nsamples = 10\\nvalue = [0, 0, 0, 10]'),\n",
       " Text(0.375, 0.16666666666666666, 'entropy = 0.0\\nsamples = 10\\nvalue = [0, 0, 10, 0]'),\n",
       " Text(0.75, 0.5, 'x[3954] <= 2.387\\nentropy = 0.918\\nsamples = 15\\nvalue = [10, 5, 0, 0]'),\n",
       " Text(0.625, 0.16666666666666666, 'entropy = 0.0\\nsamples = 10\\nvalue = [10, 0, 0, 0]'),\n",
       " Text(0.875, 0.16666666666666666, 'entropy = 0.0\\nsamples = 5\\nvalue = [0, 5, 0, 0]')]"
      ]
     },
     "execution_count": 105,
     "metadata": {},
     "output_type": "execute_result"
    },
    {
     "data": {
      "image/png": "[encoded data removed]",
      "text/plain": [
       "<Figure size 640x480 with 1 Axes>"
      ]
     },
     "metadata": {},
     "output_type": "display_data"
    }
   ],
   "source": [
    "clf = tree.DecisionTreeClassifier(criterion='entropy', splitter='best', max_depth=5, \n",
    "                                  min_samples_split=2, min_samples_leaf=1, \n",
    "                                  min_weight_fraction_leaf=0.0, max_features=None, \n",
    "                                  random_state=None, max_leaf_nodes=None, \n",
    "                                  min_impurity_decrease=1e-07, class_weight=None)\n",
    "clf = clf.fit(X_train, y_train)\n",
    "\n",
    "# Graphical view of learnt Decision Tree\n",
    "tree.plot_tree(clf)"
   ]
  },
  {
   "attachments": {},
   "cell_type": "markdown",
   "id": "467268d1",
   "metadata": {},
   "source": [
    "Let's display the results of the training on the test set"
   ]
  },
  {
   "cell_type": "code",
   "execution_count": 106,
   "id": "78f85e2a",
   "metadata": {},
   "outputs": [
    {
     "name": "stdout",
     "output_type": "stream",
     "text": [
      "DecisionTreeClassifier(criterion='entropy', max_depth=5,\n",
      "                       min_impurity_decrease=1e-07)\n",
      "Acuracy (on test set) =  0.7333333333333333\n",
      "              precision    recall  f1-score   support\n",
      "\n",
      "           1       0.75      0.75      0.75         4\n",
      "           2       0.50      0.50      0.50         2\n",
      "           3       1.00      0.50      0.67         4\n",
      "           4       0.71      1.00      0.83         5\n",
      "\n",
      "    accuracy                           0.73        15\n",
      "   macro avg       0.74      0.69      0.69        15\n",
      "weighted avg       0.77      0.73      0.72        15\n",
      "\n",
      "\n",
      " CONFUSION MATRIX\n",
      "[[3 1 0 0]\n",
      " [1 1 0 0]\n",
      " [0 0 2 2]\n",
      " [0 0 0 5]]\n"
     ]
    }
   ],
   "source": [
    "print(clf)\n",
    "score = clf.score(X_test, y_test)\n",
    "print(\"Acuracy (on test set) = \", score)\n",
    "y_true, y_pred = y_test, clf.predict(X_test)\n",
    "print( classification_report(y_true, y_pred) )\n",
    "print(\"\\n CONFUSION MATRIX\")\n",
    "print( confusion_matrix(y_true, y_pred) )"
   ]
  },
  {
   "attachments": {},
   "cell_type": "markdown",
   "id": "66cf2ac4",
   "metadata": {},
   "source": [
    "Let's try to optimize the hyper parameters with using cross validation"
   ]
  },
  {
   "cell_type": "code",
   "execution_count": 151,
   "id": "252bf849",
   "metadata": {},
   "outputs": [
    {
     "name": "stdout",
     "output_type": "stream",
     "text": [
      "[{'criterion': ['entropy', 'log_loss', 'gini'], 'max_depth': [2, 3, 4, 5, 6], 'min_samples_split': [2, 3, 4, 5]}]\n",
      "Best parameters set found on development set:\n",
      "\n",
      "{'criterion': 'log_loss', 'max_depth': 5, 'min_samples_split': 2}\n",
      "\n",
      "Grid scores on development set:\n",
      "\n",
      "0.626 (+/-0.178) for {'criterion': 'entropy', 'max_depth': 2, 'min_samples_split': 2}\n",
      "0.712 (+/-0.173) for {'criterion': 'entropy', 'max_depth': 2, 'min_samples_split': 3}\n",
      "0.551 (+/-0.379) for {'criterion': 'entropy', 'max_depth': 2, 'min_samples_split': 4}\n",
      "0.712 (+/-0.107) for {'criterion': 'entropy', 'max_depth': 2, 'min_samples_split': 5}\n",
      "0.573 (+/-0.223) for {'criterion': 'entropy', 'max_depth': 3, 'min_samples_split': 2}\n",
      "0.601 (+/-0.145) for {'criterion': 'entropy', 'max_depth': 3, 'min_samples_split': 3}\n",
      "0.515 (+/-0.143) for {'criterion': 'entropy', 'max_depth': 3, 'min_samples_split': 4}\n",
      "0.604 (+/-0.188) for {'criterion': 'entropy', 'max_depth': 3, 'min_samples_split': 5}\n",
      "0.684 (+/-0.096) for {'criterion': 'entropy', 'max_depth': 4, 'min_samples_split': 2}\n",
      "0.515 (+/-0.143) for {'criterion': 'entropy', 'max_depth': 4, 'min_samples_split': 3}\n",
      "0.513 (+/-0.220) for {'criterion': 'entropy', 'max_depth': 4, 'min_samples_split': 4}\n",
      "0.545 (+/-0.187) for {'criterion': 'entropy', 'max_depth': 4, 'min_samples_split': 5}\n",
      "0.495 (+/-0.477) for {'criterion': 'entropy', 'max_depth': 5, 'min_samples_split': 2}\n",
      "0.662 (+/-0.351) for {'criterion': 'entropy', 'max_depth': 5, 'min_samples_split': 3}\n",
      "0.742 (+/-0.138) for {'criterion': 'entropy', 'max_depth': 5, 'min_samples_split': 4}\n",
      "0.576 (+/-0.254) for {'criterion': 'entropy', 'max_depth': 5, 'min_samples_split': 5}\n",
      "0.518 (+/-0.181) for {'criterion': 'entropy', 'max_depth': 6, 'min_samples_split': 2}\n",
      "0.659 (+/-0.226) for {'criterion': 'entropy', 'max_depth': 6, 'min_samples_split': 3}\n",
      "0.606 (+/-0.329) for {'criterion': 'entropy', 'max_depth': 6, 'min_samples_split': 4}\n",
      "0.523 (+/-0.423) for {'criterion': 'entropy', 'max_depth': 6, 'min_samples_split': 5}\n",
      "0.578 (+/-0.346) for {'criterion': 'log_loss', 'max_depth': 2, 'min_samples_split': 2}\n",
      "0.773 (+/-0.064) for {'criterion': 'log_loss', 'max_depth': 2, 'min_samples_split': 3}\n",
      "0.687 (+/-0.278) for {'criterion': 'log_loss', 'max_depth': 2, 'min_samples_split': 4}\n",
      "0.573 (+/-0.112) for {'criterion': 'log_loss', 'max_depth': 2, 'min_samples_split': 5}\n",
      "0.662 (+/-0.221) for {'criterion': 'log_loss', 'max_depth': 3, 'min_samples_split': 2}\n",
      "0.604 (+/-0.188) for {'criterion': 'log_loss', 'max_depth': 3, 'min_samples_split': 3}\n",
      "0.662 (+/-0.221) for {'criterion': 'log_loss', 'max_depth': 3, 'min_samples_split': 4}\n",
      "0.659 (+/-0.118) for {'criterion': 'log_loss', 'max_depth': 3, 'min_samples_split': 5}\n",
      "0.689 (+/-0.274) for {'criterion': 'log_loss', 'max_depth': 4, 'min_samples_split': 2}\n",
      "0.578 (+/-0.396) for {'criterion': 'log_loss', 'max_depth': 4, 'min_samples_split': 3}\n",
      "0.662 (+/-0.260) for {'criterion': 'log_loss', 'max_depth': 4, 'min_samples_split': 4}\n",
      "0.604 (+/-0.188) for {'criterion': 'log_loss', 'max_depth': 4, 'min_samples_split': 5}\n",
      "0.778 (+/-0.314) for {'criterion': 'log_loss', 'max_depth': 5, 'min_samples_split': 2}\n",
      "0.576 (+/-0.214) for {'criterion': 'log_loss', 'max_depth': 5, 'min_samples_split': 3}\n",
      "0.515 (+/-0.143) for {'criterion': 'log_loss', 'max_depth': 5, 'min_samples_split': 4}\n",
      "0.773 (+/-0.151) for {'criterion': 'log_loss', 'max_depth': 5, 'min_samples_split': 5}\n",
      "0.634 (+/-0.269) for {'criterion': 'log_loss', 'max_depth': 6, 'min_samples_split': 2}\n",
      "0.573 (+/-0.352) for {'criterion': 'log_loss', 'max_depth': 6, 'min_samples_split': 3}\n",
      "0.573 (+/-0.112) for {'criterion': 'log_loss', 'max_depth': 6, 'min_samples_split': 4}\n",
      "0.662 (+/-0.351) for {'criterion': 'log_loss', 'max_depth': 6, 'min_samples_split': 5}\n",
      "0.689 (+/-0.386) for {'criterion': 'gini', 'max_depth': 2, 'min_samples_split': 2}\n",
      "0.634 (+/-0.269) for {'criterion': 'gini', 'max_depth': 2, 'min_samples_split': 3}\n",
      "0.657 (+/-0.274) for {'criterion': 'gini', 'max_depth': 2, 'min_samples_split': 4}\n",
      "0.604 (+/-0.188) for {'criterion': 'gini', 'max_depth': 2, 'min_samples_split': 5}\n",
      "0.596 (+/-0.338) for {'criterion': 'gini', 'max_depth': 3, 'min_samples_split': 2}\n",
      "0.604 (+/-0.188) for {'criterion': 'gini', 'max_depth': 3, 'min_samples_split': 3}\n",
      "0.548 (+/-0.326) for {'criterion': 'gini', 'max_depth': 3, 'min_samples_split': 4}\n",
      "0.604 (+/-0.188) for {'criterion': 'gini', 'max_depth': 3, 'min_samples_split': 5}\n",
      "0.634 (+/-0.269) for {'criterion': 'gini', 'max_depth': 4, 'min_samples_split': 2}\n",
      "0.606 (+/-0.329) for {'criterion': 'gini', 'max_depth': 4, 'min_samples_split': 3}\n",
      "0.629 (+/-0.069) for {'criterion': 'gini', 'max_depth': 4, 'min_samples_split': 4}\n",
      "0.634 (+/-0.269) for {'criterion': 'gini', 'max_depth': 4, 'min_samples_split': 5}\n",
      "0.490 (+/-0.248) for {'criterion': 'gini', 'max_depth': 5, 'min_samples_split': 2}\n",
      "0.543 (+/-0.068) for {'criterion': 'gini', 'max_depth': 5, 'min_samples_split': 3}\n",
      "0.604 (+/-0.188) for {'criterion': 'gini', 'max_depth': 5, 'min_samples_split': 4}\n",
      "0.518 (+/-0.181) for {'criterion': 'gini', 'max_depth': 5, 'min_samples_split': 5}\n",
      "0.687 (+/-0.278) for {'criterion': 'gini', 'max_depth': 6, 'min_samples_split': 2}\n",
      "0.545 (+/-0.129) for {'criterion': 'gini', 'max_depth': 6, 'min_samples_split': 3}\n",
      "0.515 (+/-0.276) for {'criterion': 'gini', 'max_depth': 6, 'min_samples_split': 4}\n",
      "0.631 (+/-0.136) for {'criterion': 'gini', 'max_depth': 6, 'min_samples_split': 5}\n",
      "\n",
      "Detailed classification report:\n",
      "\n",
      "The model is trained on the full development set.\n",
      "The scores are computed on the full evaluation set.\n",
      "\n",
      "              precision    recall  f1-score   support\n",
      "\n",
      "           1       1.00      0.50      0.67         4\n",
      "           2       0.67      1.00      0.80         2\n",
      "           3       0.67      0.50      0.57         4\n",
      "           4       0.71      1.00      0.83         5\n",
      "\n",
      "    accuracy                           0.73        15\n",
      "   macro avg       0.76      0.75      0.72        15\n",
      "weighted avg       0.77      0.73      0.71        15\n",
      "\n",
      "\n"
     ]
    }
   ],
   "source": [
    "param_grid = [\n",
    "  {'criterion': ['entropy', 'log_loss', 'gini'],\n",
    "   'max_depth': [2, 3, 4, 5, 6], \n",
    "   'min_samples_split':[2, 3, 4, 5]}\n",
    " ]\n",
    "print(param_grid)\n",
    "\n",
    "# Cross-validation grid-search (for finding best possible f1 score)\n",
    "clf = GridSearchCV( tree.DecisionTreeClassifier(criterion='gini', splitter='best', max_depth=5, \n",
    "                                  min_samples_split=4, min_samples_leaf=1, \n",
    "                                  min_weight_fraction_leaf=0.0, max_features=None, \n",
    "                                  random_state=None, max_leaf_nodes=None, \n",
    "                                  min_impurity_decrease=1e-07, class_weight=None), \n",
    "                   param_grid, cv=3, scoring='accuracy') \n",
    "    \n",
    "clf.fit(X_train, y_train)\n",
    "print(\"Best parameters set found on development set:\")\n",
    "print()\n",
    "print(clf.best_params_)\n",
    "print()\n",
    "print(\"Grid scores on development set:\")\n",
    "print()\n",
    "means = clf.cv_results_['mean_test_score']\n",
    "stds = clf.cv_results_['std_test_score']\n",
    "for mean, std, params in zip(means, stds, clf.cv_results_['params']):\n",
    "    print(\"%0.3f (+/-%0.03f) for %r\"\n",
    "           % (mean, std * 2, params))\n",
    "print()\n",
    "print(\"Detailed classification report:\")\n",
    "print()\n",
    "print(\"The model is trained on the full development set.\")\n",
    "print(\"The scores are computed on the full evaluation set.\")\n",
    "print()\n",
    "y_true, y_pred = y_test, clf.predict(X_test)\n",
    "print(classification_report(y_true, y_pred))\n",
    "print()"
   ]
  },
  {
   "attachments": {},
   "cell_type": "markdown",
   "id": "998dfe47",
   "metadata": {},
   "source": [
    "A simple tree have already some good results (the acuracy is 0.778 for the best set of hyper parameters) but we could try to improve it by using random forest and diminishing the noise"
   ]
  },
  {
   "attachments": {},
   "cell_type": "markdown",
   "id": "e7a529e7",
   "metadata": {},
   "source": [
    "Now let's use random forest and see the results"
   ]
  },
  {
   "cell_type": "code",
   "execution_count": 152,
   "id": "9512de62",
   "metadata": {},
   "outputs": [
    {
     "name": "stdout",
     "output_type": "stream",
     "text": [
      "n_estimators= 100  max_depth= 5 max_features= sqrt\n",
      "RandomForestClassifier(max_depth=5, min_impurity_decrease=1e-07, n_jobs=1)\n",
      "Acuracy (on test set) =  0.7333333333333333\n",
      "              precision    recall  f1-score   support\n",
      "\n",
      "           1       0.60      0.75      0.67         4\n",
      "           2       0.00      0.00      0.00         2\n",
      "           3       1.00      0.75      0.86         4\n",
      "           4       0.83      1.00      0.91         5\n",
      "\n",
      "    accuracy                           0.73        15\n",
      "   macro avg       0.61      0.62      0.61        15\n",
      "weighted avg       0.70      0.73      0.71        15\n",
      "\n",
      "\n",
      " CONFUSION MATRIX\n",
      "[[3 1 0 0]\n",
      " [2 0 0 0]\n",
      " [0 0 3 1]\n",
      " [0 0 0 5]]\n"
     ]
    }
   ],
   "source": [
    "clf = RandomForestClassifier(n_estimators=100, criterion='gini', max_depth=5,\n",
    "                             min_samples_split=2, min_samples_leaf=1, \n",
    "                             min_weight_fraction_leaf=0.0, \n",
    "                             max_leaf_nodes=None, min_impurity_decrease=1e-07, bootstrap=True, \n",
    "                             oob_score=False, n_jobs=1, random_state=None, \n",
    "                             verbose=0, warm_start=False, class_weight=None)\n",
    "clf = clf.fit(X_train, y_train)\n",
    "print(\"n_estimators=\", clf.n_estimators, \" max_depth=\",clf.max_depth,\n",
    "      \"max_features=\", clf.max_features)\n",
    "\n",
    "# Evaluate acuracy on test data\n",
    "print(clf)\n",
    "score = clf.score(X_test, y_test)\n",
    "print(\"Acuracy (on test set) = \", score)\n",
    "y_true, y_pred = y_test, clf.predict(X_test)\n",
    "print( classification_report(y_true, y_pred) )\n",
    "print(\"\\n CONFUSION MATRIX\")\n",
    "print( confusion_matrix(y_true, y_pred) )"
   ]
  },
  {
   "attachments": {},
   "cell_type": "markdown",
   "id": "7d62cdef",
   "metadata": {},
   "source": [
    "Again we are using cross validation to find the best couples of hyper parameters"
   ]
  },
  {
   "cell_type": "code",
   "execution_count": 157,
   "id": "390a0a4d",
   "metadata": {},
   "outputs": [
    {
     "name": "stdout",
     "output_type": "stream",
     "text": [
      "[{'n_estimators': [20, 50, 100, 150, 200, 250, 500], 'max_features': ['sqrt', 'log2'], 'max_depth': [2, 3, 4, 5]}]\n",
      "Best parameters set found on development set:\n",
      "\n",
      "{'max_depth': 3, 'max_features': 'sqrt', 'n_estimators': 200}\n",
      "\n",
      "Balanced acuracy (on best params) =  0.8541666666666666\n",
      "\n",
      " CONFUSION MATRIX\n",
      "[[4 0 0 0]\n",
      " [1 1 0 0]\n",
      " [0 0 2 2]\n",
      " [0 0 0 5]]\n",
      "\n",
      "Grid scores on development set:\n",
      "\n",
      "0.556 (+/-0.071) for {'max_depth': 2, 'max_features': 'sqrt', 'n_estimators': 20}\n",
      "0.729 (+/-0.118) for {'max_depth': 2, 'max_features': 'sqrt', 'n_estimators': 50}\n",
      "0.771 (+/-0.236) for {'max_depth': 2, 'max_features': 'sqrt', 'n_estimators': 100}\n",
      "0.660 (+/-0.079) for {'max_depth': 2, 'max_features': 'sqrt', 'n_estimators': 150}\n",
      "0.660 (+/-0.079) for {'max_depth': 2, 'max_features': 'sqrt', 'n_estimators': 200}\n",
      "0.639 (+/-0.071) for {'max_depth': 2, 'max_features': 'sqrt', 'n_estimators': 250}\n",
      "0.639 (+/-0.071) for {'max_depth': 2, 'max_features': 'sqrt', 'n_estimators': 500}\n",
      "0.701 (+/-0.137) for {'max_depth': 2, 'max_features': 'log2', 'n_estimators': 20}\n",
      "0.611 (+/-0.020) for {'max_depth': 2, 'max_features': 'log2', 'n_estimators': 50}\n",
      "0.632 (+/-0.157) for {'max_depth': 2, 'max_features': 'log2', 'n_estimators': 100}\n",
      "0.708 (+/-0.257) for {'max_depth': 2, 'max_features': 'log2', 'n_estimators': 150}\n",
      "0.694 (+/-0.227) for {'max_depth': 2, 'max_features': 'log2', 'n_estimators': 200}\n",
      "0.681 (+/-0.086) for {'max_depth': 2, 'max_features': 'log2', 'n_estimators': 250}\n",
      "0.743 (+/-0.283) for {'max_depth': 2, 'max_features': 'log2', 'n_estimators': 500}\n",
      "0.639 (+/-0.039) for {'max_depth': 3, 'max_features': 'sqrt', 'n_estimators': 20}\n",
      "0.556 (+/-0.373) for {'max_depth': 3, 'max_features': 'sqrt', 'n_estimators': 50}\n",
      "0.778 (+/-0.232) for {'max_depth': 3, 'max_features': 'sqrt', 'n_estimators': 100}\n",
      "0.785 (+/-0.129) for {'max_depth': 3, 'max_features': 'sqrt', 'n_estimators': 150}\n",
      "0.854 (+/-0.118) for {'max_depth': 3, 'max_features': 'sqrt', 'n_estimators': 200}\n",
      "0.701 (+/-0.039) for {'max_depth': 3, 'max_features': 'sqrt', 'n_estimators': 250}\n",
      "0.826 (+/-0.208) for {'max_depth': 3, 'max_features': 'sqrt', 'n_estimators': 500}\n",
      "0.639 (+/-0.171) for {'max_depth': 3, 'max_features': 'log2', 'n_estimators': 20}\n",
      "0.674 (+/-0.020) for {'max_depth': 3, 'max_features': 'log2', 'n_estimators': 50}\n",
      "0.771 (+/-0.068) for {'max_depth': 3, 'max_features': 'log2', 'n_estimators': 100}\n",
      "0.743 (+/-0.277) for {'max_depth': 3, 'max_features': 'log2', 'n_estimators': 150}\n",
      "0.778 (+/-0.232) for {'max_depth': 3, 'max_features': 'log2', 'n_estimators': 200}\n",
      "0.799 (+/-0.104) for {'max_depth': 3, 'max_features': 'log2', 'n_estimators': 250}\n",
      "0.806 (+/-0.187) for {'max_depth': 3, 'max_features': 'log2', 'n_estimators': 500}\n",
      "0.562 (+/-0.148) for {'max_depth': 4, 'max_features': 'sqrt', 'n_estimators': 20}\n",
      "0.688 (+/-0.272) for {'max_depth': 4, 'max_features': 'sqrt', 'n_estimators': 50}\n",
      "0.792 (+/-0.156) for {'max_depth': 4, 'max_features': 'sqrt', 'n_estimators': 100}\n",
      "0.694 (+/-0.227) for {'max_depth': 4, 'max_features': 'sqrt', 'n_estimators': 150}\n",
      "0.771 (+/-0.118) for {'max_depth': 4, 'max_features': 'sqrt', 'n_estimators': 200}\n",
      "0.826 (+/-0.039) for {'max_depth': 4, 'max_features': 'sqrt', 'n_estimators': 250}\n",
      "0.785 (+/-0.219) for {'max_depth': 4, 'max_features': 'sqrt', 'n_estimators': 500}\n",
      "0.597 (+/-0.221) for {'max_depth': 4, 'max_features': 'log2', 'n_estimators': 20}\n",
      "0.715 (+/-0.079) for {'max_depth': 4, 'max_features': 'log2', 'n_estimators': 50}\n",
      "0.750 (+/-0.102) for {'max_depth': 4, 'max_features': 'log2', 'n_estimators': 100}\n",
      "0.806 (+/-0.221) for {'max_depth': 4, 'max_features': 'log2', 'n_estimators': 150}\n",
      "0.764 (+/-0.260) for {'max_depth': 4, 'max_features': 'log2', 'n_estimators': 200}\n",
      "0.701 (+/-0.039) for {'max_depth': 4, 'max_features': 'log2', 'n_estimators': 250}\n",
      "0.812 (+/-0.204) for {'max_depth': 4, 'max_features': 'log2', 'n_estimators': 500}\n",
      "0.701 (+/-0.039) for {'max_depth': 5, 'max_features': 'sqrt', 'n_estimators': 20}\n",
      "0.764 (+/-0.330) for {'max_depth': 5, 'max_features': 'sqrt', 'n_estimators': 50}\n",
      "0.701 (+/-0.171) for {'max_depth': 5, 'max_features': 'sqrt', 'n_estimators': 100}\n",
      "0.722 (+/-0.305) for {'max_depth': 5, 'max_features': 'sqrt', 'n_estimators': 150}\n",
      "0.826 (+/-0.171) for {'max_depth': 5, 'max_features': 'sqrt', 'n_estimators': 200}\n",
      "0.826 (+/-0.171) for {'max_depth': 5, 'max_features': 'sqrt', 'n_estimators': 250}\n",
      "0.764 (+/-0.330) for {'max_depth': 5, 'max_features': 'sqrt', 'n_estimators': 500}\n",
      "0.611 (+/-0.119) for {'max_depth': 5, 'max_features': 'log2', 'n_estimators': 20}\n",
      "0.736 (+/-0.086) for {'max_depth': 5, 'max_features': 'log2', 'n_estimators': 50}\n",
      "0.785 (+/-0.219) for {'max_depth': 5, 'max_features': 'log2', 'n_estimators': 100}\n",
      "0.826 (+/-0.171) for {'max_depth': 5, 'max_features': 'log2', 'n_estimators': 150}\n",
      "0.743 (+/-0.277) for {'max_depth': 5, 'max_features': 'log2', 'n_estimators': 200}\n",
      "0.764 (+/-0.260) for {'max_depth': 5, 'max_features': 'log2', 'n_estimators': 250}\n",
      "0.826 (+/-0.171) for {'max_depth': 5, 'max_features': 'log2', 'n_estimators': 500}\n",
      "\n"
     ]
    }
   ],
   "source": [
    "param_grid = [\n",
    "  {'n_estimators': [20,50,100,150,200,250,500], \n",
    "   'max_features':[\"sqrt\", \"log2\"],\n",
    "   'max_depth': [2, 3, 4, 5,]}\n",
    " ]\n",
    "print(param_grid)\n",
    "\n",
    "# Cross-validation grid-search (for finding best possible accuracy)\n",
    "clf = GridSearchCV(RandomForestClassifier(n_estimators=10, criterion='gini', max_depth=None,\n",
    "                             min_samples_split=2, min_samples_leaf=1, \n",
    "                             min_weight_fraction_leaf=0.0, \n",
    "                             max_leaf_nodes=None, min_impurity_decrease=1e-07, bootstrap=True, \n",
    "                             oob_score=False, n_jobs=1, random_state=None, \n",
    "                             verbose=0, warm_start=False, class_weight=None), \n",
    "                   param_grid, cv=3, scoring='balanced_accuracy') \n",
    "    \n",
    "clf.fit(X_train, y_train)\n",
    "print(\"Best parameters set found on development set:\")\n",
    "print()\n",
    "print(clf.best_params_)\n",
    "print()\n",
    "print(\"Balanced acuracy (on best params) = \", clf.best_score_)\n",
    "\n",
    "y_true, y_pred = y_test, clf.predict(X_test)\n",
    "print(\"\\n CONFUSION MATRIX\")\n",
    "print( confusion_matrix(y_true, y_pred) )\n",
    "print()\n",
    "print(\"Grid scores on development set:\")\n",
    "print()\n",
    "means = clf.cv_results_['mean_test_score']\n",
    "stds = clf.cv_results_['std_test_score']\n",
    "for mean, std, params in zip(means, stds, clf.cv_results_['params']):\n",
    "    print(\"%0.3f (+/-%0.03f) for %r\"\n",
    "           % (mean, std * 2, params))\n",
    "print()"
   ]
  },
  {
   "attachments": {},
   "cell_type": "markdown",
   "id": "70c14ede",
   "metadata": {},
   "source": [
    "We obtain a pretty good result with a balanced acuracy of 85% on the set {'max_depth': 3, 'max_features': 'sqrt', 'n_estimators': 200} and the confusion matrix appears to be quite fine. The first and the last class seems to be well predicted while the other two have some issues. It also appears that data seems separable in 2 classes (confirm by the kmeans part, where the class 1 and 2 form a class and the 3 and 4 another one) but the distinction inside is more difficult. The results we obtain are good but the lack of data is a real problem to have more precise results."
   ]
  },
  {
   "attachments": {},
   "cell_type": "markdown",
   "id": "87ab62d8",
   "metadata": {},
   "source": [
    "**Discussion of the metric used**"
   ]
  },
  {
   "attachments": {},
   "cell_type": "markdown",
   "id": "cc149174",
   "metadata": {},
   "source": [
    "By default we used the acuracy but we managed to see that the second class was often misclassified. Therefore we suspect the few amount of data concerning this class and try to find a way to skirt the problem by using the 'balanced acuracy' metrics."
   ]
  },
  {
   "attachments": {},
   "cell_type": "markdown",
   "id": "67fad2d6",
   "metadata": {},
   "source": [
    "**Conclusion**"
   ]
  },
  {
   "attachments": {},
   "cell_type": "markdown",
   "id": "11eaa8dd",
   "metadata": {},
   "source": [
    "But this conduce us to think more about the metrics we use and why. "
   ]
  }
 ],
 "metadata": {
  "kernelspec": {
   "display_name": "Python 3",
   "language": "python",
   "name": "python3"
  },
  "language_info": {
   "codemirror_mode": {
    "name": "ipython",
    "version": 3
   },
   "file_extension": ".py",
   "mimetype": "text/x-python",
   "name": "python",
   "nbconvert_exporter": "python",
   "pygments_lexer": "ipython3",
   "version": "3.10.8"
  }
 },
 "nbformat": 4,
 "nbformat_minor": 5
}
